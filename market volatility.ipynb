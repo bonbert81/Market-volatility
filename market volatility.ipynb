{
 "cells": [
  {
   "cell_type": "code",
   "execution_count": null,
   "metadata": {},
   "outputs": [],
   "source": [
    "market volatility\n",
    "Standard deviation is the statistical measure of market volatility, measuring how widely prices are dispersed from the average \n",
    "price. If prices trade in a narrow trading range, the standard deviation will return a low value that indicates low volatility. \n",
    "Conversely, if prices swing wildly up and down, then standard deviation returns a high value that indicates high volatility.\n"
   ]
  },
  {
   "cell_type": "code",
   "execution_count": 1,
   "metadata": {},
   "outputs": [],
   "source": [
    "import pandas_datareader as pdr\n",
    "import datetime\n",
    "import pandas as pd\n",
    "import matplotlib.pyplot as plt\n",
    "import numpy as np\n"
   ]
  },
  {
   "cell_type": "code",
   "execution_count": 2,
   "metadata": {},
   "outputs": [],
   "source": [
    "yahooData = pdr.get_data_yahoo('aapl', \n",
    "                          start=datetime.datetime(2010, 1, 1), \n",
    "                          end=datetime.datetime(2018, 1, 1))\n"
   ]
  },
  {
   "cell_type": "code",
   "execution_count": 3,
   "metadata": {},
   "outputs": [],
   "source": [
    "# Daily returns\n",
    "daily_close = yahooData['Adj Close']\n",
    "# calculate daily log return using shift\n",
    "daily_log_returns_shift = np.log(daily_close / daily_close.shift(1))"
   ]
  },
  {
   "cell_type": "code",
   "execution_count": 4,
   "metadata": {},
   "outputs": [
    {
     "data": {
      "image/png": "[encoded data removed]",
      "text/plain": [
       "<Figure size 432x288 with 1 Axes>"
      ]
     },
     "metadata": {
      "needs_background": "light"
     },
     "output_type": "display_data"
    },
    {
     "name": "stdout",
     "output_type": "stream",
     "text": [
      "count    2013.000000\n",
      "mean        0.000913\n",
      "std         0.015942\n",
      "min        -0.131885\n",
      "25%        -0.006842\n",
      "50%         0.000865\n",
      "75%         0.009642\n",
      "max         0.085022\n",
      "Name: Adj Close, dtype: float64\n"
     ]
    }
   ],
   "source": [
    "# Plot the distribution of `daily_pct_c`\n",
    "daily_log_returns_shift.hist(bins=50)\n",
    "\n",
    "# Show the plot\n",
    "plt.show()\n",
    "\n",
    "# Pull up summary statistics \n",
    "#check the Std value\n",
    "print(daily_log_returns_shift.describe())"
   ]
  },
  {
   "cell_type": "code",
   "execution_count": null,
   "metadata": {},
   "outputs": [],
   "source": []
  }
 ],
 "metadata": {
  "kernelspec": {
   "display_name": "Python 3",
   "language": "python",
   "name": "python3"
  },
  "language_info": {
   "codemirror_mode": {
    "name": "ipython",
    "version": 3
   },
   "file_extension": ".py",
   "mimetype": "text/x-python",
   "name": "python",
   "nbconvert_exporter": "python",
   "pygments_lexer": "ipython3",
   "version": "3.7.0"
  }
 },
 "nbformat": 4,
 "nbformat_minor": 2
}
